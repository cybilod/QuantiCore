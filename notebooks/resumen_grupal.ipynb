{
 "cells": [
  {
   "cell_type": "markdown",
   "id": "710c9bec",
   "metadata": {},
   "source": [
    "# Resumen Grupal\n",
    "El equipo desarrolló un proyecto de análisis de datos enfocado en identificar los determinantes de la deserción escolar en Colombia, a partir de datos agregados por municipio, año y nivel educativo. Se aplicó el ciclo de ciencia de datos: recolección, limpieza, análisis exploratorio (EDA) y modelado predictivo. Se evaluaron hipótesis relacionadas con conectividad, cobertura neta, repitencia y dinámica poblacional, integrando técnicas estadísticas y de machine learning. El análisis reveló correlaciones significativas entre variables estructurales y tasas de abandono. El trabajo fue ejecutado de forma colaborativa por un equipo multidisciplinario, integrando analítica avanzada, visualización con BI, ingeniería de datos y gestión de proyecto para generar hallazgos accionables orientados a la toma de decisiones en el sector educativo.\n",
    "\n",
    "\n"
   ]
  }
 ],
 "metadata": {
  "language_info": {
   "name": "python"
  }
 },
 "nbformat": 4,
 "nbformat_minor": 5
}
