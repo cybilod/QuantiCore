{
 "cells": [
  {
   "cell_type": "code",
   "execution_count": 11,
   "id": "790aab68",
   "metadata": {},
   "outputs": [
    {
     "name": "stdout",
     "output_type": "stream",
     "text": [
      "    AÑO  CÓDIGO_MUNICIPIO   MUNICIPIO  CÓDIGO_DEPARTAMENTO DEPARTAMENTO  \\\n",
      "0  2023              5001    Medellín                    5    Antioquia   \n",
      "1  2023              5002   Abejorral                    5    Antioquia   \n",
      "2  2023              5004    Abriaquí                    5    Antioquia   \n",
      "3  2023              5021  Alejandría                    5    Antioquia   \n",
      "4  2023              5030       Amagá                    5    Antioquia   \n",
      "\n",
      "   CÓDIGO_ETC              ETC POBLACIÓN_5_16  TASA_MATRICULACIÓN_5_16  \\\n",
      "0      3759.0         Medellín         377562                    96.15   \n",
      "1      3758.0  Antioquia (ETC)           3634                    74.38   \n",
      "2      3758.0  Antioquia (ETC)            503                    62.62   \n",
      "3      3758.0  Antioquia (ETC)            864                    81.37   \n",
      "4      3758.0  Antioquia (ETC)           5060                    78.30   \n",
      "\n",
      "   COBERTURA_NETA  ...  REPROBACIÓN  REPROBACIÓN_TRANSICIÓN  \\\n",
      "0           95.94  ...         9.23                    0.15   \n",
      "1           74.38  ...         7.77                    0.56   \n",
      "2           62.62  ...         6.55                    0.00   \n",
      "3           81.37  ...         7.88                    0.00   \n",
      "4           78.30  ...        10.71                    0.00   \n",
      "\n",
      "   REPROBACIÓN_PRIMARIA  REPROBACIÓN_SECUNDARIA  REPROBACIÓN_MEDIA  \\\n",
      "0                  6.21                   15.40               7.27   \n",
      "1                  7.26                   10.93               4.41   \n",
      "2                  1.96                   16.51               2.04   \n",
      "3                  7.02                   13.65               2.40   \n",
      "4                  9.63                   16.48               5.50   \n",
      "\n",
      "   REPITENCIA  REPITENCIA_TRANSICIÓN  REPITENCIA_PRIMARIA  \\\n",
      "0        9.25                   1.82                 8.34   \n",
      "1        9.07                   1.67                10.28   \n",
      "2        9.52                   0.00                10.46   \n",
      "3        7.20                   1.59                 7.69   \n",
      "4       12.08                   0.29                11.54   \n",
      "\n",
      "   REPITENCIA_SECUNDARIA  REPITENCIA_MEDIA  \n",
      "0                  13.69              4.48  \n",
      "1                  11.32              2.20  \n",
      "2                  13.76              2.04  \n",
      "3                  11.65              0.00  \n",
      "4                  18.48              3.98  \n",
      "\n",
      "[5 rows x 41 columns]\n",
      "Index(['AÑO', 'CÓDIGO_MUNICIPIO', 'MUNICIPIO', 'CÓDIGO_DEPARTAMENTO',\n",
      "       'DEPARTAMENTO', 'CÓDIGO_ETC', 'ETC', 'POBLACIÓN_5_16',\n",
      "       'TASA_MATRICULACIÓN_5_16', 'COBERTURA_NETA',\n",
      "       'COBERTURA_NETA_TRANSICIÓN', 'COBERTURA_NETA_PRIMARIA',\n",
      "       'COBERTURA_NETA_SECUNDARIA', 'COBERTURA_NETA_MEDIA', 'COBERTURA_BRUTA',\n",
      "       'COBERTURA_BRUTA_TRANSICIÓN', 'COBERTURA_BRUTA_PRIMARIA',\n",
      "       'COBERTURA_BRUTA_SECUNDARIA', 'COBERTURA_BRUTA_MEDIA',\n",
      "       'TAMAÑO_PROMEDIO_DE_GRUPO', 'SEDES_CONECTADAS_A_INTERNET', 'DESERCIÓN',\n",
      "       'DESERCIÓN_TRANSICIÓN', 'DESERCIÓN_PRIMARIA', 'DESERCIÓN_SECUNDARIA',\n",
      "       'DESERCIÓN_MEDIA', 'APROBACIÓN', 'APROBACIÓN_TRANSICIÓN',\n",
      "       'APROBACIÓN_PRIMARIA', 'APROBACIÓN_SECUNDARIA', 'APROBACIÓN_MEDIA',\n",
      "       'REPROBACIÓN', 'REPROBACIÓN_TRANSICIÓN', 'REPROBACIÓN_PRIMARIA',\n",
      "       'REPROBACIÓN_SECUNDARIA', 'REPROBACIÓN_MEDIA', 'REPITENCIA',\n",
      "       'REPITENCIA_TRANSICIÓN', 'REPITENCIA_PRIMARIA', 'REPITENCIA_SECUNDARIA',\n",
      "       'REPITENCIA_MEDIA'],\n",
      "      dtype='object')\n"
     ]
    }
   ],
   "source": [
    "import pandas as pd\n",
    "import matplotlib.pyplot as plt\n",
    "import seaborn as sns\n",
    "\n",
    "df = pd.read_csv(\"../DATA/estadistica_datos.csv\")\n",
    "\n",
    "\n",
    "print(df.head()) \n",
    "print(df.columns)\n"
   ]
  }
 ],
 "metadata": {
  "kernelspec": {
   "display_name": "Python 3",
   "language": "python",
   "name": "python3"
  },
  "language_info": {
   "codemirror_mode": {
    "name": "ipython",
    "version": 3
   },
   "file_extension": ".py",
   "mimetype": "text/x-python",
   "name": "python",
   "nbconvert_exporter": "python",
   "pygments_lexer": "ipython3",
   "version": "3.13.3"
  }
 },
 "nbformat": 4,
 "nbformat_minor": 5
}
