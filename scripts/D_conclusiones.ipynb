{
 "cells": [
  {
   "cell_type": "markdown",
   "id": "fbda0585",
   "metadata": {},
   "source": [
    "# TED Talk: Reducir la Deserción en Colombia\n",
    "\n",
    "## Inicio: ( 1 minuto) Vamos a recrear por un momento como es salçon con deserción escolar vamos a notar una baja asistencia, falta de compromiso de los estudiantes, y un ambiente general de desmotivación; es la realidad de muchos niños lo viven como en la Guainía, Vichada y Caqueta.  ¿Cómo es posible que en pleno 2025 todavía estemos dejando que esto pase? Y lo más importante, ¿qué vamos a hacer para cambiarlo?\n",
    "\n",
    "Hoy quiero hablarles sobre la deserción escolar, un problema que no solo afecta a los niños que dejan las aulas, sino también al desarrollo de nuestras comunidades. Mi objetivo es que salgamos de aquí convencidos de que hay soluciones posibles y urgentes.\n",
    "\n",
    "## EL problema: (2 minutos) ## El Problema (2 minutos)\n",
    "En departamentos como Guainía, la tasa de deserción supera el 6.8%. Esto significa que cientos de niños abandonan la escuela cada año, perdiendo la oportunidad de aprender, crecer y soñar.  \n",
    "\n",
    "La conectividad también es una barrera enorme. Por ejemplo, en Vaupés, solo el 13% de las escuelas tienen acceso a Internet. Y esto, en un mundo donde la educación digital ya no es un lujo, sino una necesidad.\n",
    "\n",
    "La pobreza extrema y la falta de infraestructura también juegan un papel. Muchas familias tienen que decidir entre alimentar a sus hijos o enviarlos a la escuela. Una decisión que ningún padre debería tener que tomar.\n",
    "\n",
    "---\n",
    "\n",
    "## Soluciones a Corto, Mediano y Largo Plazo (3 minutos)\n",
    "\n",
    "**Corto Plazo:**  \n",
    "Primero, necesitamos soluciones inmediatas: distribuir kits educativos digitales, brindar subsidios escolares y capacitar a nuestros maestros en el uso de tecnologías.  \n",
    "Si logramos esto, un niño en Guainía podrá aprender desde su casa, incluso sin conexión a Internet.  \n",
    "\n",
    "**Mediano Plazo:**  \n",
    "En tres a cinco años, debemos construir mejores escuelas y llevar Internet a cada rincón del país. La inversión en infraestructura no es opcional, es prioritaria.  \n",
    "Esto no solo mejorará la educación; cambiará vidas enteras.  \n",
    "\n",
    "**Largo Plazo:**  \n",
    "Finalmente, debemos transformar la educación. Esto significa diseñar currículos que integren habilidades técnicas adaptadas a las necesidades locales y vincular a los jóvenes con el empleo.  \n",
    "Así, un estudiante en Vichada no solo terminará la escuela, sino que también estará listo para contribuir a su comunidad.  \n",
    "\n",
    "---\n",
    "\n",
    "## Cómo Asegurarnos de Cumplir (1 minuto)\n",
    "Para lograrlo, necesitamos transparencia y compromiso. Las comunidades deben ser parte activa del cambio, monitoreando cada paso. Además, los resultados deben ser claros: menos deserción, más conectividad y mejores resultados académicos.  \n",
    "\n",
    "Cada avance debe celebrarse, y cada obstáculo, enfrentarse con soluciones.\n",
    "\n",
    "---\n",
    "\n",
    "## Cierre Impactante (1 minuto)\n",
    "Reducir la deserción escolar no es solo un desafío educativo; es una misión social que todos debemos asumir. Cada niño que vuelve a la escuela es una victoria para el futuro de Colombia.  \n",
    "\n",
    "“La educación es el arma más poderosa que puedes usar para cambiar el mundo.”  \n",
    "Hoy los invito a ser parte de este cambio. Juntos, podemos transformar sueños rotos en realidades poderosas.\n"
   ]
  }
 ],
 "metadata": {
  "language_info": {
   "name": "python"
  }
 },
 "nbformat": 4,
 "nbformat_minor": 5
}
